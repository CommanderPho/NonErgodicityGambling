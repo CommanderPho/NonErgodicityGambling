{
 "cells": [
  {
   "attachments": {},
   "cell_type": "markdown",
   "metadata": {},
   "source": [
    "# Problem Statement:\n",
    "Each time you flip a coin, if heads (H), your current amount of money increases by $+80\\%$ and if tails decreases by $50\\%$.\n",
    "\n",
    "## Example Calculation:\n",
    "Starting with $\\$100$:\n",
    "\tHeads: $100 + 100 \\times 0.8 = \\$180$\n",
    "\tTails: $100 - 100 \\times 0.5 = \\$50$"
   ]
  },
  {
   "attachments": {},
   "cell_type": "markdown",
   "metadata": {},
   "source": [
    "Define values and weights:\n",
    "- fair coin flip\n",
    "- start with $100\n",
    "\n",
    "alternatives: https://medium.com/geekculture/how-to-simulate-coin-flips-using-binomial-distribution-in-python-165aae7daf22"
   ]
  },
  {
   "cell_type": "code",
   "execution_count": 15,
   "metadata": {},
   "outputs": [],
   "source": [
    "import numpy as np\n",
    "import pandas as pd\n"
   ]
  },
  {
   "cell_type": "code",
   "execution_count": 19,
   "metadata": {},
   "outputs": [
    {
     "data": {
      "text/html": [
       "<div>\n",
       "<style scoped>\n",
       "    .dataframe tbody tr th:only-of-type {\n",
       "        vertical-align: middle;\n",
       "    }\n",
       "\n",
       "    .dataframe tbody tr th {\n",
       "        vertical-align: top;\n",
       "    }\n",
       "\n",
       "    .dataframe thead th {\n",
       "        text-align: right;\n",
       "    }\n",
       "</style>\n",
       "<table border=\"1\" class=\"dataframe\">\n",
       "  <thead>\n",
       "    <tr style=\"text-align: right;\">\n",
       "      <th></th>\n",
       "      <th>flip_outcome</th>\n",
       "      <th>change_in_money</th>\n",
       "      <th>updated_money</th>\n",
       "    </tr>\n",
       "  </thead>\n",
       "  <tbody>\n",
       "    <tr>\n",
       "      <th>0</th>\n",
       "      <td>0</td>\n",
       "      <td>80.0000</td>\n",
       "      <td>180.0000</td>\n",
       "    </tr>\n",
       "    <tr>\n",
       "      <th>1</th>\n",
       "      <td>1</td>\n",
       "      <td>-90.0000</td>\n",
       "      <td>90.0000</td>\n",
       "    </tr>\n",
       "    <tr>\n",
       "      <th>2</th>\n",
       "      <td>0</td>\n",
       "      <td>72.0000</td>\n",
       "      <td>162.0000</td>\n",
       "    </tr>\n",
       "    <tr>\n",
       "      <th>3</th>\n",
       "      <td>1</td>\n",
       "      <td>-81.0000</td>\n",
       "      <td>81.0000</td>\n",
       "    </tr>\n",
       "    <tr>\n",
       "      <th>4</th>\n",
       "      <td>0</td>\n",
       "      <td>64.8000</td>\n",
       "      <td>145.8000</td>\n",
       "    </tr>\n",
       "    <tr>\n",
       "      <th>5</th>\n",
       "      <td>0</td>\n",
       "      <td>116.6400</td>\n",
       "      <td>262.4400</td>\n",
       "    </tr>\n",
       "    <tr>\n",
       "      <th>6</th>\n",
       "      <td>1</td>\n",
       "      <td>-131.2200</td>\n",
       "      <td>131.2200</td>\n",
       "    </tr>\n",
       "    <tr>\n",
       "      <th>7</th>\n",
       "      <td>0</td>\n",
       "      <td>104.9760</td>\n",
       "      <td>236.1960</td>\n",
       "    </tr>\n",
       "    <tr>\n",
       "      <th>8</th>\n",
       "      <td>1</td>\n",
       "      <td>-118.0980</td>\n",
       "      <td>118.0980</td>\n",
       "    </tr>\n",
       "    <tr>\n",
       "      <th>9</th>\n",
       "      <td>0</td>\n",
       "      <td>94.4784</td>\n",
       "      <td>212.5764</td>\n",
       "    </tr>\n",
       "  </tbody>\n",
       "</table>\n",
       "</div>"
      ],
      "text/plain": [
       "   flip_outcome  change_in_money  updated_money\n",
       "0             0          80.0000       180.0000\n",
       "1             1         -90.0000        90.0000\n",
       "2             0          72.0000       162.0000\n",
       "3             1         -81.0000        81.0000\n",
       "4             0          64.8000       145.8000\n",
       "5             0         116.6400       262.4400\n",
       "6             1        -131.2200       131.2200\n",
       "7             0         104.9760       236.1960\n",
       "8             1        -118.0980       118.0980\n",
       "9             0          94.4784       212.5764"
      ]
     },
     "execution_count": 19,
     "metadata": {},
     "output_type": "execute_result"
    }
   ],
   "source": [
    "\n",
    "def simulate_run(current_money=100, num_flips=10, outcome_values=(0.8, -0.5)):\n",
    "\t\"\"\" simulates a single gambling trial of length `num_flips`. \n",
    "\t\n",
    "\tReturns a dataframe showing the run and the final money after the run.\n",
    "\t\"\"\"\n",
    "\t# Result arrays:\n",
    "\tflip_outcomes = []\n",
    "\tflip_change_in_money = []\n",
    "\tflip_post_money = []\n",
    "\n",
    "\t# Simulation num_flips coin flips:\n",
    "\t# flip_outcomes = [np.random.randint(0, 1) for i in np.arange(num_flips)]\n",
    "\tfor i in np.arange(num_flips):\n",
    "\t\tcurrent_flip_outcome = np.random.choice((0, 1)) # randomly choose a 0 or 1, which indicates the outcome of this trial.\n",
    "\t\tflip_outcomes.append(current_flip_outcome)\n",
    "\t\tchange_in_money = (outcome_values[current_flip_outcome] * current_money)\n",
    "\t\tflip_change_in_money.append(change_in_money)\n",
    "\t\tcurrent_money = current_money + change_in_money\n",
    "\t\tflip_post_money.append(current_money)\n",
    "\n",
    "\n",
    "\tflip_outcomes = np.array(flip_outcomes)\n",
    "\tflip_change_in_money = np.array(flip_change_in_money)\n",
    "\tflip_post_money = np.array(flip_post_money)\n",
    "\n",
    "\toutcome_df = pd.DataFrame(dict(flip_outcome=flip_outcomes, change_in_money=flip_change_in_money, updated_money=flip_post_money))\n",
    "\tfinal_money = flip_post_money[-1]\n",
    "\treturn outcome_df, final_money\n",
    "\n",
    "\n",
    "\n",
    "single_run_outcome_df, final_money =  simulate_run(current_money=100, num_flips=10)\n",
    "single_run_outcome_df"
   ]
  },
  {
   "cell_type": "code",
   "execution_count": 27,
   "metadata": {},
   "outputs": [],
   "source": [
    "num_simulations = 100000\n",
    "outcome_result_dfs = []\n",
    "outcome_result_final_money = []\n",
    "\n",
    "for sim_i in np.arange(num_simulations):\n",
    "\tsingle_run_outcome_df, final_money =  simulate_run(current_money=100, num_flips=10)\n",
    "\toutcome_result_final_money.append(final_money)\n",
    "\n",
    "outcome_result_final_money = np.array(outcome_result_final_money)"
   ]
  },
  {
   "cell_type": "code",
   "execution_count": 28,
   "metadata": {},
   "outputs": [
    {
     "name": "stdout",
     "output_type": "stream",
     "text": [
      "simulation_final_money: mean: 400.8833266648286, median: 59.049000000000014\n"
     ]
    }
   ],
   "source": [
    "avg_simulation_final_money = np.mean(outcome_result_final_money)\n",
    "median_simulation_final_money = np.median(outcome_result_final_money)\n",
    "\n",
    "print(f'simulation_final_money: mean: {avg_simulation_final_money}, median: {median_simulation_final_money}')\n"
   ]
  },
  {
   "cell_type": "code",
   "execution_count": null,
   "metadata": {},
   "outputs": [],
   "source": []
  },
  {
   "cell_type": "code",
   "execution_count": null,
   "metadata": {},
   "outputs": [],
   "source": []
  },
  {
   "attachments": {},
   "cell_type": "markdown",
   "metadata": {},
   "source": []
  }
 ],
 "metadata": {
  "kernelspec": {
   "display_name": ".venv",
   "language": "python",
   "name": "python3"
  },
  "language_info": {
   "codemirror_mode": {
    "name": "ipython",
    "version": 3
   },
   "file_extension": ".py",
   "mimetype": "text/x-python",
   "name": "python",
   "nbconvert_exporter": "python",
   "pygments_lexer": "ipython3",
   "version": "3.9.13"
  },
  "orig_nbformat": 4
 },
 "nbformat": 4,
 "nbformat_minor": 2
}
